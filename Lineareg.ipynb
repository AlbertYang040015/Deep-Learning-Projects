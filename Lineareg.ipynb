{
 "cells": [
  {
   "cell_type": "code",
   "execution_count": null,
   "id": "93f956d5-24ca-4915-8bbd-e68f46b13a16",
   "metadata": {},
   "outputs": [],
   "source": [
    "import torch #导入pytorch库\n",
    "import numpy as np #导入numpy库\n",
    "import random #导入random库\n"
   ]
  },
  {
   "cell_type": "code",
   "execution_count": null,
   "id": "d43d01b3-04ca-4c29-a593-ee92c6b2b028",
   "metadata": {},
   "outputs": [],
   "source": [
    "#此模块用于生成虚拟数据\n",
    "def synthetic_data(w, b ,num_examples):#定义一个合成数据的函数用于生成虚拟数据以便于做模型测试训练\n",
    "    X = torch.normal(0, 1, (num_examples, len(w)))#定义 X 为均值为0方差为1的随机数，尺寸为样本个数行，偏置长度列\n",
    "    y = torch.matmul(X, w) + b#定义 y 为 X 和 w 的内积加上 b\n",
    "    y += torch.normal(0, 0.01, y.shape)#用给 y 累加的形式，数学上表示为 y = dot(X, w) + b + noise,定义噪声为均值为0方差为0.01的随机数，]\n",
    "    return X, y.reshape(-1, 1)#将 y 转化为(num_examples, 1),方便后续计算\n",
    "\n",
    "true_w = torch.tensor([2,-3.4])#定义一个明确的 w\n",
    "true_b = 4.2#定义一个明确的偏置 b\n",
    "features,labels = synthetic_data(true_w, true_b, 1000)#将 X，y 写作特征和标签，以方便以后调用 \n",
    "\n",
    "X,y = synthetic_data(true_w, true_b, 1000)"
   ]
  },
  {
   "cell_type": "code",
   "execution_count": null,
   "id": "e085e3d0-ce3c-41b6-be1e-d3ee29d0f3e2",
   "metadata": {
    "scrolled": true
   },
   "outputs": [],
   "source": [
    "#批量数据处理\n",
    "def data_iter(batch_size, features, labels):#定义一个数据迭代器\n",
    "    num_examples = len(features)#函数内定义样本数量等于特征数量\n",
    "    indices = list(range( num_examples))#将样本数量转化为列表并且定义出索引\n",
    "    random.shuffle(indices)#打乱索引\n",
    "    for i in range(0, num_examples, batch_size):#对于整个样本集进行一个小批量抽取的遍历\n",
    "        batch_indices = torch.tensor(indices[i:min(i + batch_size, num_examples)])#小批量抽取的主体，为了防止 i + batch_size 大于整个样本集使用了 min 函数确保不会取值溢出\n",
    "        yield features[batch_indices], labels[batch_indices]#返回抽取小批量样本的特征和标签\n",
    "\n",
    "batch_size = 10#随便取一个批量数量\n",
    "\n",
    "for X, y  in data_iter(batch_size, features, labels):\n",
    "   print(X,\"\\n\", y)\n",
    "   break\n",
    "    \n",
    "   \n",
    "    "
   ]
  },
  {
   "cell_type": "code",
   "execution_count": null,
   "id": "03776fde-ce45-4bd5-abdd-3e1d7381bb5b",
   "metadata": {},
   "outputs": [],
   "source": [
    "#初始化变量并且定义 y_hat 用于 loss函数 的定义\n",
    "w = torch.normal(0, 0.01, size = (2,1), requires_grad=True)#初始化 w 并且请求梯度树\n",
    "b = torch.zeros(1, requires_grad=True)#初始化 b 并且请求梯度树\n",
    "\n",
    "def linreg(w, X, b):#定义线性回归函数\n",
    "    return torch.matmul(w, X) + b#线性回归函数返回 y_hat "
   ]
  },
  {
   "cell_type": "code",
   "execution_count": null,
   "id": "448a82ce-1701-43ab-a1b2-93a995c90d5b",
   "metadata": {},
   "outputs": [],
   "source": [
    "#定义 均方loss函数\n",
    "def squared_loss(y_hat, y):#主损失函数定义\n",
    "    return (y_hat - y.reshape(y_hat.shape))**2/2#函数定义为 y_hat - y的平方除以二 "
   ]
  },
  {
   "cell_type": "code",
   "execution_count": null,
   "id": "1e90cb81-11bb-4b72-8f4a-242a1c61d365",
   "metadata": {},
   "outputs": [],
   "source": [
    "#定义小批量随机梯度下降\n",
    "def sgd(params, lr, batch_size):#定义随机梯度下降函数\n",
    "    with torch.no_grad():#防止自动求导\n",
    "        for param in params:#遍历参数\n",
    "            param -= lr*param.grad/batch_size#按照算法更新参数\n",
    "            param.grad.zero_()#清空梯度"
   ]
  },
  {
   "cell_type": "code",
   "execution_count": null,
   "id": "51226a5b-ff20-4122-ab7f-07e3f449b8df",
   "metadata": {},
   "outputs": [],
   "source": [
    "lr = 0.1#定义学习率\n",
    "num_epochs = 50#学习遍数\n",
    "net = linreg\n",
    "loss = squared_loss\n",
    "\n",
    "for epoch in range(num_epochs):#遍历样本数\n",
    "    for X, y in data_iter(batch_size, features, labels):#遍历样本特征和样本标签\n",
    "        l = loss(net(X, w, b), y)#使用 loss函数 \n",
    "        l.sum().backward()#对 loss函数 求梯度\n",
    "        sgd([w, b], lr, batch_size)#进行小批量随机梯度下降\n",
    "    with torch.no_grad():\n",
    "        train_l = loss(net(features, w, b), labels)#验证集评估模型\n",
    "        print(f'epoch {epoch +1}, loss {float(train_l.mean()):f}')"
   ]
  }
 ],
 "metadata": {
  "kernelspec": {
   "display_name": "Python 3",
   "language": "python",
   "name": "python3"
  },
  "language_info": {
   "codemirror_mode": {
    "name": "ipython",
    "version": 3
   },
   "file_extension": ".py",
   "mimetype": "text/x-python",
   "name": "python",
   "nbconvert_exporter": "python",
   "pygments_lexer": "ipython3",
   "version": "3.12.1"
  }
 },
 "nbformat": 4,
 "nbformat_minor": 5
}
